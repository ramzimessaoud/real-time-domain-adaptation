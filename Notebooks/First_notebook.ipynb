{
  "nbformat": 4,
  "nbformat_minor": 0,
  "metadata": {
    "colab": {
      "provenance": []
    },
    "kernelspec": {
      "name": "python3",
      "display_name": "Python 3"
    },
    "language_info": {
      "name": "python"
    }
  },
  "cells": [
    {
      "cell_type": "code",
      "execution_count": null,
      "metadata": {
        "id": "HB0oRRCQYmPb"
      },
      "outputs": [],
      "source": [
        "import torch\n",
        "import torchvision\n",
        "import numpy as np\n",
        "import matplotlib.pyplot as plt\n"
      ]
    },
    {
      "cell_type": "code",
      "source": [
        "### Data Loading"
      ],
      "metadata": {
        "id": "19pJQFOEYoFP"
      },
      "execution_count": 1,
      "outputs": []
    },
    {
      "cell_type": "code",
      "source": [
        "from torchvision.datasets import Cityscapes\n",
        "# Load Cityscapes dataset as an example\n",
        "cityscapes_data = Cityscapes(root='path_to_cityscapes', split='train', mode='fine', target_type='semantic')\n"
      ],
      "metadata": {
        "id": "Qviyyf_OYrLl"
      },
      "execution_count": null,
      "outputs": []
    },
    {
      "cell_type": "code",
      "source": [
        "def visualize_dataset(dataset, index):\n",
        "    image, mask = dataset[index]\n",
        "    plt.figure(figsize=(10, 5))\n",
        "    plt.subplot(1, 2, 1)\n",
        "    plt.imshow(image)\n",
        "    plt.subplot(1, 2, 2)\n",
        "    plt.imshow(mask)\n",
        "    plt.show()\n"
      ],
      "metadata": {
        "id": "mcIGxOPeYs7e"
      },
      "execution_count": null,
      "outputs": []
    },
    {
      "cell_type": "code",
      "source": [
        "# Model definition\n",
        "import torch.nn as nn\n",
        "# Define a simple UNet model here\n"
      ],
      "metadata": {
        "id": "xqTz-yALYulW"
      },
      "execution_count": null,
      "outputs": []
    },
    {
      "cell_type": "code",
      "source": [],
      "metadata": {
        "id": "JAbOIAnVYzSY"
      },
      "execution_count": null,
      "outputs": []
    }
  ]
}